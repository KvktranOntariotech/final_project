{
 "cells": [
  {
   "cell_type": "markdown",
   "id": "e997c65d-4ae5-4d19-a2f3-1c97281ab29e",
   "metadata": {},
   "source": [
    "# Final Project"
   ]
  },
  {
   "cell_type": "code",
   "execution_count": 1,
   "id": "1803f8c9-bb3f-429c-b8e6-3de888591320",
   "metadata": {
    "tags": []
   },
   "outputs": [],
   "source": [
    "// [THIS IS READ-ONLY]\n",
    "@file:DependsOn(\"/antlr-4.11.1-complete.jar\")\n",
    "@file:DependsOn(\"./target\")"
   ]
  },
  {
   "cell_type": "code",
   "execution_count": 2,
   "id": "00dded06-be5e-4d33-9fcb-9076d2f3d676",
   "metadata": {
    "tags": []
   },
   "outputs": [],
   "source": [
    "// [THIS IS READ-ONLY]\n",
    "import org.antlr.v4.runtime.*\n",
    "import backend.*"
   ]
  },
  {
   "cell_type": "code",
   "execution_count": 3,
   "id": "b7a5119a-6eee-4aa9-b328-e80f09709846",
   "metadata": {
    "tags": []
   },
   "outputs": [],
   "source": [
    "// [THIS IS READ-ONLY]\n",
    "fun execute(source:String) {\n",
    "    val errorlistener = object: BaseErrorListener() {\n",
    "        override fun syntaxError(recognizer: Recognizer<*,*>,\n",
    "               offendingSymbol: Any?,\n",
    "               line: Int,\n",
    "               pos: Int,\n",
    "               msg: String,\n",
    "               e: RecognitionException?) {\n",
    "            throw Exception(\"${e} at line:${line}, char:${pos}\")\n",
    "        }\n",
    "    }\n",
    "    val input = CharStreams.fromString(source)\n",
    "    val lexer = PLLexer(input).apply {\n",
    "        removeErrorListeners()\n",
    "        addErrorListener(errorlistener)\n",
    "    }\n",
    "    val tokens = CommonTokenStream(lexer)\n",
    "    val parser = PLParser(tokens).apply {\n",
    "        removeErrorListeners()\n",
    "        addErrorListener(errorlistener)\n",
    "    }    \n",
    "    \n",
    "    try {\n",
    "        val result = parser.program()\n",
    "        result.expr.eval(Runtime())\n",
    "    } catch(e:Exception) {\n",
    "        println(\"Error: ${e}\")\n",
    "    }\n",
    "}"
   ]
  },
  {
   "cell_type": "markdown",
   "id": "5c3de30a-6998-4150-a889-08301c0ce8ff",
   "metadata": {},
   "source": [
    "## Test 1: Type checking on variable initialize and assign"
   ]
  },
  {
   "cell_type": "code",
   "execution_count": 4,
   "id": "34ee1757-6994-466e-9f25-a26980a20238",
   "metadata": {
    "tags": []
   },
   "outputs": [
    {
     "name": "stdout",
     "output_type": "stream",
     "text": [
      "4\n",
      "Hello World\n"
     ]
    }
   ],
   "source": [
    "val program1 = \"\"\"\n",
    "x : int = 4;\n",
    "y : string = \"Hello World\"\n",
    "\n",
    "print(x)\n",
    "print(y)\n",
    "\"\"\"\n",
    "execute(program1)"
   ]
  },
  {
   "cell_type": "code",
   "execution_count": 5,
   "id": "83eb43a6-5953-4dea-b76a-c7cba8decd5d",
   "metadata": {
    "tags": []
   },
   "outputs": [
    {
     "name": "stdout",
     "output_type": "stream",
     "text": [
      "Error: java.lang.Exception: Type mismatch, assigned value x is not of int type\n"
     ]
    }
   ],
   "source": [
    "val program2 = \"\"\"\n",
    "x : int = \"Hello World\";\n",
    "\n",
    "print(x)\n",
    "\"\"\"\n",
    "execute(program2)"
   ]
  },
  {
   "cell_type": "code",
   "execution_count": 6,
   "id": "724e7432-caf6-4c2c-83c8-d1cf62ed5b1f",
   "metadata": {
    "tags": []
   },
   "outputs": [
    {
     "name": "stdout",
     "output_type": "stream",
     "text": [
      "Error: java.lang.Exception: Type mismatch, assigned value x is not of string type\n"
     ]
    }
   ],
   "source": [
    "val program3 = \"\"\"\n",
    "x : string = 10;\n",
    "\n",
    "print(x)\n",
    "\"\"\"\n",
    "execute(program3)"
   ]
  },
  {
   "cell_type": "markdown",
   "id": "15c7394e-32f6-4657-ba08-ba6bb8f5eb04",
   "metadata": {},
   "source": [
    "## Test 2: Test type checking on complex arithmetics"
   ]
  },
  {
   "cell_type": "code",
   "execution_count": 13,
   "id": "6bcc2623-b73f-4f2e-883b-426d43f50c6d",
   "metadata": {
    "tags": []
   },
   "outputs": [
    {
     "name": "stdout",
     "output_type": "stream",
     "text": [
      "unknown\n",
      "Error: java.lang.Exception: Type mismatch, assigned value int is not of int type\n"
     ]
    }
   ],
   "source": [
    "val program1 = \"\"\"\n",
    "x : int = 2 + 3;\n",
    "print(x)\n",
    "\"\"\"\n",
    "execute(program1)"
   ]
  },
  {
   "cell_type": "code",
   "execution_count": 8,
   "id": "732e9b05-a597-4ef8-8685-f1d2e74234a5",
   "metadata": {
    "tags": []
   },
   "outputs": [
    {
     "name": "stdout",
     "output_type": "stream",
     "text": [
      "unknown\n",
      "Error: java.lang.Exception: Type mismatch, assigned value int is not of int type\n"
     ]
    }
   ],
   "source": [
    "val program1 = \"\"\"\n",
    "x : int = 4 + 4 + (2 + 3);\n",
    "\"\"\"\n",
    "execute(program1)"
   ]
  },
  {
   "cell_type": "markdown",
   "id": "cb9f4761-3c25-4c62-8a26-2fbfd7c23e02",
   "metadata": {},
   "source": [
    "## Test 3: Test type checking on function"
   ]
  },
  {
   "cell_type": "code",
   "execution_count": 9,
   "id": "e33a5b9f-33b2-4622-bdb2-6b51f85edc3f",
   "metadata": {
    "tags": []
   },
   "outputs": [
    {
     "name": "stdout",
     "output_type": "stream",
     "text": [
      "3\n"
     ]
    }
   ],
   "source": [
    "val program1 = \"\"\"\n",
    "function myFunc(x : int) {\n",
    "    print(x)\n",
    "}\n",
    "\n",
    "myFunc(3)\n",
    "\"\"\"\n",
    "execute(program1)"
   ]
  },
  {
   "cell_type": "code",
   "execution_count": 10,
   "id": "536ccd8b-834a-4338-b753-f988cccbc48e",
   "metadata": {
    "tags": []
   },
   "outputs": [
    {
     "name": "stdout",
     "output_type": "stream",
     "text": [
      "Error: java.lang.Exception: Type mismatch, assigned value myFunc_0 is not of int type\n"
     ]
    }
   ],
   "source": [
    "val program2 = \"\"\"\n",
    "function myFunc(x : int) {\n",
    "    print(x)\n",
    "}\n",
    "\n",
    "myFunc(\"Hello\")\n",
    "\"\"\"\n",
    "execute(program2)"
   ]
  },
  {
   "cell_type": "code",
   "execution_count": 11,
   "id": "0c92dd72-f5ac-4587-8ef4-357a0caed409",
   "metadata": {
    "tags": []
   },
   "outputs": [
    {
     "name": "stdout",
     "output_type": "stream",
     "text": [
      "Error: java.lang.Exception: Type mismatch, assigned value myFunc_1 is not of string type\n"
     ]
    }
   ],
   "source": [
    "val program3 = \"\"\"\n",
    "function myFunc(x : int, y : string) {\n",
    "    print(x)\n",
    "    print(y)\n",
    "}\n",
    "\n",
    "myFunc(3 , 10)\n",
    "\"\"\"\n",
    "execute(program3)"
   ]
  },
  {
   "cell_type": "code",
   "execution_count": null,
   "id": "ee5a2f63-0fa2-45c2-94d5-859065159677",
   "metadata": {},
   "outputs": [],
   "source": []
  },
  {
   "cell_type": "markdown",
   "id": "0fb69026-8481-4256-a6b2-90ef7e64a615",
   "metadata": {},
   "source": [
    "## Test 4"
   ]
  },
  {
   "cell_type": "markdown",
   "id": "d2107c5c-dee1-4a08-8f7e-cb259fe68b97",
   "metadata": {},
   "source": [
    "## Test 5"
   ]
  },
  {
   "cell_type": "markdown",
   "id": "c0a9b380-59b3-4dc7-9a5a-3858eba5a3e8",
   "metadata": {},
   "source": [
    "## Test 6"
   ]
  },
  {
   "cell_type": "code",
   "execution_count": null,
   "id": "78cbe303-02c3-450a-8ab1-6a79c8e19ce3",
   "metadata": {},
   "outputs": [],
   "source": []
  }
 ],
 "metadata": {
  "kernelspec": {
   "display_name": "Kotlin",
   "language": "kotlin",
   "name": "kotlin"
  },
  "language_info": {
   "codemirror_mode": "text/x-kotlin",
   "file_extension": ".kt",
   "mimetype": "text/x-kotlin",
   "name": "kotlin",
   "nbconvert_exporter": "",
   "pygments_lexer": "kotlin",
   "version": "1.8.0-dev-707"
  }
 },
 "nbformat": 4,
 "nbformat_minor": 5
}
