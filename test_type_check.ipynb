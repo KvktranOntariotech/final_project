{
 "cells": [
  {
   "cell_type": "markdown",
   "id": "e997c65d-4ae5-4d19-a2f3-1c97281ab29e",
   "metadata": {},
   "source": [
    "# Final Project"
   ]
  },
  {
   "cell_type": "code",
   "execution_count": 1,
   "id": "1803f8c9-bb3f-429c-b8e6-3de888591320",
   "metadata": {
    "tags": []
   },
   "outputs": [],
   "source": [
    "// [THIS IS READ-ONLY]\n",
    "@file:DependsOn(\"/antlr-4.11.1-complete.jar\")\n",
    "@file:DependsOn(\"./target\")"
   ]
  },
  {
   "cell_type": "code",
   "execution_count": 2,
   "id": "00dded06-be5e-4d33-9fcb-9076d2f3d676",
   "metadata": {
    "tags": []
   },
   "outputs": [],
   "source": [
    "// [THIS IS READ-ONLY]\n",
    "import org.antlr.v4.runtime.*\n",
    "import backend.*"
   ]
  },
  {
   "cell_type": "code",
   "execution_count": 3,
   "id": "b7a5119a-6eee-4aa9-b328-e80f09709846",
   "metadata": {
    "tags": []
   },
   "outputs": [],
   "source": [
    "// [THIS IS READ-ONLY]\n",
    "fun execute(source:String) {\n",
    "    val errorlistener = object: BaseErrorListener() {\n",
    "        override fun syntaxError(recognizer: Recognizer<*,*>,\n",
    "               offendingSymbol: Any?,\n",
    "               line: Int,\n",
    "               pos: Int,\n",
    "               msg: String,\n",
    "               e: RecognitionException?) {\n",
    "            throw Exception(\"${e} at line:${line}, char:${pos}\")\n",
    "        }\n",
    "    }\n",
    "    val input = CharStreams.fromString(source)\n",
    "    val lexer = PLLexer(input).apply {\n",
    "        removeErrorListeners()\n",
    "        addErrorListener(errorlistener)\n",
    "    }\n",
    "    val tokens = CommonTokenStream(lexer)\n",
    "    val parser = PLParser(tokens).apply {\n",
    "        removeErrorListeners()\n",
    "        addErrorListener(errorlistener)\n",
    "    }    \n",
    "    \n",
    "    try {\n",
    "        val result = parser.program()\n",
    "        result.expr.eval(Runtime())\n",
    "    } catch(e:Exception) {\n",
    "        println(\"Error: ${e}\")\n",
    "    }\n",
    "}"
   ]
  },
  {
   "cell_type": "markdown",
   "id": "5c3de30a-6998-4150-a889-08301c0ce8ff",
   "metadata": {},
   "source": [
    "## Test 1:"
   ]
  },
  {
   "cell_type": "code",
   "execution_count": 4,
   "id": "34ee1757-6994-466e-9f25-a26980a20238",
   "metadata": {
    "tags": []
   },
   "outputs": [
    {
     "name": "stdout",
     "output_type": "stream",
     "text": [
      "No type conflict\n"
     ]
    }
   ],
   "source": [
    "val program1 = \"\"\"\n",
    "x : int = 4;\n",
    "\"\"\"\n",
    "execute(program1)"
   ]
  },
  {
   "cell_type": "markdown",
   "id": "15c7394e-32f6-4657-ba08-ba6bb8f5eb04",
   "metadata": {},
   "source": [
    "## Test 2"
   ]
  },
  {
   "cell_type": "code",
   "execution_count": 5,
   "id": "bec09220-91a7-40d7-bc17-d651f47dffab",
   "metadata": {},
   "outputs": [
    {
     "name": "stdout",
     "output_type": "stream",
     "text": [
      "java.lang.Exception: Type mismatch\n",
      "Test\n"
     ]
    }
   ],
   "source": [
    "val program2 = \"\"\"\n",
    "x : int = \"Test\";\n",
    "print(x)\n",
    "\"\"\"\n",
    "execute(program2)"
   ]
  },
  {
   "cell_type": "markdown",
   "id": "cb9f4761-3c25-4c62-8a26-2fbfd7c23e02",
   "metadata": {},
   "source": [
    "## Test 3"
   ]
  },
  {
   "cell_type": "markdown",
   "id": "0fb69026-8481-4256-a6b2-90ef7e64a615",
   "metadata": {},
   "source": [
    "## Test 4"
   ]
  },
  {
   "cell_type": "markdown",
   "id": "d2107c5c-dee1-4a08-8f7e-cb259fe68b97",
   "metadata": {},
   "source": [
    "## Test 5"
   ]
  },
  {
   "cell_type": "markdown",
   "id": "c0a9b380-59b3-4dc7-9a5a-3858eba5a3e8",
   "metadata": {},
   "source": [
    "## Test 6"
   ]
  },
  {
   "cell_type": "code",
   "execution_count": null,
   "id": "4d790652-490e-4470-b230-98857d754d4a",
   "metadata": {},
   "outputs": [],
   "source": []
  }
 ],
 "metadata": {
  "kernelspec": {
   "display_name": "Kotlin",
   "language": "kotlin",
   "name": "kotlin"
  },
  "language_info": {
   "codemirror_mode": "text/x-kotlin",
   "file_extension": ".kt",
   "mimetype": "text/x-kotlin",
   "name": "kotlin",
   "nbconvert_exporter": "",
   "pygments_lexer": "kotlin",
   "version": "1.8.0-dev-707"
  }
 },
 "nbformat": 4,
 "nbformat_minor": 5
}
